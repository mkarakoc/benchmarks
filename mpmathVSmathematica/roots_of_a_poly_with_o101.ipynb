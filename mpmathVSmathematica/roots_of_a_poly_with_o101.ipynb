{
 "cells": [
  {
   "cell_type": "code",
   "execution_count": 1,
   "metadata": {
    "collapsed": true
   },
   "outputs": [],
   "source": [
    "import sympy as sym\n",
    "import mpmath as mp\n",
    "\n",
    "# set the working precision\n",
    "mp.mp.dps = 500\n",
    "\n",
    "# Load the polynomial\n",
    "f = open(\"a_polynomial_with_order101.dat\", 'r')\n",
    "poly = f.read()\n",
    "f.close()\n",
    "\n",
    "# Convert string to SymPy expression then get the coefficients with high precision.\n",
    "polyCoeffs = [mp.mpf(i) for i in sym.poly(poly, sym.symbols(\"x\")).coeffs()]"
   ]
  },
  {
   "cell_type": "code",
   "execution_count": 2,
   "metadata": {
    "collapsed": false
   },
   "outputs": [
    {
     "name": "stdout",
     "output_type": "stream",
     "text": [
      "CPU times: user 1min 10s, sys: 256 ms, total: 1min 11s\n",
      "Wall time: 1min 10s\n"
     ]
    }
   ],
   "source": [
    "%%time\n",
    "# Find roots of the polynomial and show processing time\n",
    "solutions =  mp.polyroots(polyCoeffs, maxsteps=512, extraprec=200)"
   ]
  },
  {
   "cell_type": "code",
   "execution_count": 3,
   "metadata": {
    "collapsed": false
   },
   "outputs": [
    {
     "name": "stdout",
     "output_type": "stream",
     "text": [
      "-3.25646424490722525403605656288886     \n",
      "-0.39942617065535109728006890201645     \n",
      "-0.02563590921469356448052755661023     \n"
     ]
    }
   ],
   "source": [
    "# Print negative real roots of the polynomial\n",
    "realNegSol = [i for i in solutions if i.imag==mp.mpf(0) and i<mp.mpf(0)]\n",
    "for i in [\"{:40.35s}\".format(str(i)) for i in realNegSol]:\n",
    "    print i"
   ]
  }
 ],
 "metadata": {
  "hide_input": false,
  "kernelspec": {
   "display_name": "Python 2",
   "language": "python",
   "name": "python2"
  },
  "language_info": {
   "codemirror_mode": {
    "name": "ipython",
    "version": 2
   },
   "file_extension": ".py",
   "mimetype": "text/x-python",
   "name": "python",
   "nbconvert_exporter": "python",
   "pygments_lexer": "ipython2",
   "version": "2.7.6"
  },
  "toc": {
   "colors": {
    "hover_highlight": "#DAA520",
    "running_highlight": "#FF0000",
    "selected_highlight": "#FFD700"
   },
   "moveMenuLeft": true,
   "nav_menu": {
    "height": "12px",
    "width": "252px"
   },
   "navigate_menu": true,
   "number_sections": true,
   "sideBar": true,
   "threshold": 4,
   "toc_cell": false,
   "toc_section_display": "block",
   "toc_window_display": false
  }
 },
 "nbformat": 4,
 "nbformat_minor": 0
}
